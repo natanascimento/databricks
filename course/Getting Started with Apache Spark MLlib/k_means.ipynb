{
  "nbformat": 4,
  "nbformat_minor": 0,
  "metadata": {
    "colab": {
      "name": "k-means.ipynb",
      "provenance": []
    },
    "kernelspec": {
      "name": "python3",
      "display_name": "Python 3"
    }
  },
  "cells": [
    {
      "cell_type": "markdown",
      "metadata": {
        "id": "WXWaMZBcs2v4"
      },
      "source": [
        "# KMeans with Scikit-learn\r\n",
        "\r\n",
        "\r\n"
      ]
    },
    {
      "cell_type": "code",
      "metadata": {
        "id": "a-TJwlZHqq9u"
      },
      "source": [
        "import numpy as np\r\n",
        "from matplotlib import pyplot as plt\r\n",
        "from sklearn.cluster import KMeans\r\n",
        "from sklearn.datasets import make_blobs"
      ],
      "execution_count": 6,
      "outputs": []
    },
    {
      "cell_type": "code",
      "metadata": {
        "colab": {
          "base_uri": "https://localhost:8080/",
          "height": 268
        },
        "id": "v3GiSkWHrwbd",
        "outputId": "df53f584-855e-4652-a15e-5488746dbefc"
      },
      "source": [
        "dataset = np.array([[1,4], [2,2], [2,5], [3,3], [3,5], [4,7], [5,6], [6,4], [6,7], [7,6], [7,9], [8,7], [8,9], [9,4], [9,8]])\r\n",
        "\r\n",
        "plt.scatter(dataset[:,0], dataset[:,1])\r\n",
        "plt.xlim(0,10)\r\n",
        "plt.ylim(0,10)\r\n",
        "plt.grid()"
      ],
      "execution_count": 7,
      "outputs": [
        {
          "output_type": "display_data",
          "data": {
            "image/png": "[encoded data removed]",
            "text/plain": [
              "<Figure size 432x288 with 1 Axes>"
            ]
          },
          "metadata": {
            "tags": [],
            "needs_background": "light"
          }
        }
      ]
    },
    {
      "cell_type": "code",
      "metadata": {
        "colab": {
          "base_uri": "https://localhost:8080/",
          "height": 268
        },
        "id": "S3YhBpoX4Fnc",
        "outputId": "1a9ea823-513d-47f7-9d81-ed0be9931844"
      },
      "source": [
        "kmeans = KMeans(n_clusters=3, init=\"k-means++\", max_iter=300, n_init=10)\r\n",
        "pred_y = kmeans.fit_predict(dataset)\r\n",
        "\r\n",
        "plt.scatter(dataset[:,0], dataset[:,1])\r\n",
        "plt.xlim(0,10)\r\n",
        "plt.ylim(0,10)\r\n",
        "plt.grid()\r\n",
        "\r\n",
        "plt.scatter(kmeans.cluster_centers_[:,0], kmeans.cluster_centers_[:,1], s=70, c='red')\r\n",
        "plt.show()"
      ],
      "execution_count": 10,
      "outputs": [
        {
          "output_type": "display_data",
          "data": {
            "image/png": "[encoded data removed]",
            "text/plain": [
              "<Figure size 432x288 with 1 Axes>"
            ]
          },
          "metadata": {
            "tags": [],
            "needs_background": "light"
          }
        }
      ]
    },
    {
      "cell_type": "code",
      "metadata": {
        "colab": {
          "base_uri": "https://localhost:8080/",
          "height": 285
        },
        "id": "hi7WlBJR410c",
        "outputId": "3a62a8a6-fbdb-4a84-f8f5-42cbe5a0f418"
      },
      "source": [
        "plt.scatter(dataset[:,0], dataset[:,1], c=pred_y)\r\n",
        "plt.xlim(0,10)\r\n",
        "plt.ylim(0,10)\r\n",
        "plt.grid()\r\n",
        "\r\n",
        "plt.scatter(kmeans.cluster_centers_[:,0], kmeans.cluster_centers_[:,1], s=70, c='red')\r\n",
        "plt.show()"
      ],
      "execution_count": 9,
      "outputs": [
        {
          "output_type": "execute_result",
          "data": {
            "text/plain": [
              "<matplotlib.collections.PathCollection at 0x7f667c338cc0>"
            ]
          },
          "metadata": {
            "tags": []
          },
          "execution_count": 9
        },
        {
          "output_type": "display_data",
          "data": {
            "image/png": "[encoded data removed]",
            "text/plain": [
              "<Figure size 432x288 with 1 Axes>"
            ]
          },
          "metadata": {
            "tags": [],
            "needs_background": "light"
          }
        }
      ]
    },
    {
      "cell_type": "markdown",
      "metadata": {
        "id": "48p4uwQLtBu5"
      },
      "source": [
        "# KMeans with Apache Spark MLlib"
      ]
    },
    {
      "cell_type": "code",
      "metadata": {
        "id": "Qim4K8SRtIWi"
      },
      "source": [
        "!apt-get install openjdk-8-jdk-headless -qq > /dev/null\r\n",
        "!wget -q http://www-eu.apache.org/dist/spark/spark-2.4.1/spark-2.4.1-bin-hadoop2.7.tgz\r\n",
        "!tar xf spark-2.4.1-bin-hadoop2.7.tgz\r\n",
        "!pip install -q findspark\r\n",
        "!pip install -q pyspark"
      ],
      "execution_count": null,
      "outputs": []
    },
    {
      "cell_type": "code",
      "metadata": {
        "id": "8qQw-bMftJem"
      },
      "source": [
        "import os\r\n",
        "os.environ[\"JAVA_HOME\"] = \"/usr/lib/jvm/java-8-openjdk-amd64\"\r\n",
        "os.environ[\"SPARK_HOME\"] = \"/content/spark-2.4.1-bin-hadoop2.7\""
      ],
      "execution_count": null,
      "outputs": []
    },
    {
      "cell_type": "code",
      "metadata": {
        "id": "1fXxpoiAtPYB"
      },
      "source": [
        "import findspark\r\n",
        "findspark.init()\r\n",
        "from pyspark.sql import SparkSession\r\n",
        "spark = SparkSession.builder.master(\"local[*]\").getOrCreate()"
      ],
      "execution_count": null,
      "outputs": []
    }
  ]
}